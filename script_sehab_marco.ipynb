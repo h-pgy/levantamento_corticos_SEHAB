{
 "cells": [
  {
   "cell_type": "markdown",
   "id": "7acddecd-75ad-4336-a93c-8034e70da45e",
   "metadata": {},
   "source": [
    "# Levantamento Cortiços e ZEIS-3 - SEHAB\n",
    "\n",
    "## Requisitos:\n",
    "\n",
    "Boa tarde!!\n",
    "Encaminho uma tabela com o cruzamento entre os imóveis originados do arquivo “ vistoria prévia” classificados como cortiços e ocupações, somado as ZEIS 3 que foram inseridas, com a base de lotes fiscal. Identificamos nessa tabela o código do cadastro imobiliário dos imóveis (SQL).\n",
    "Solicitamos a gentileza da equipe da SEHAB, para que faça gestão junto a Secretaria de Finanças, para que disponibilizem os atributos do cadastro imobiliário desses imóveis como:\n",
    "\n",
    "Dados dos proprietários\n",
    "Dados do terreno (área, ano de lançamento do lote, posição e testada)\n",
    "Dados da construção (área, tipo, material, padrão, utilização), valor venal do imóvel e histórico da indicação fiscal.\n",
    "Informações sobre tombamentos.\n",
    "\n",
    "Salientamos que esses dados serão fundamentais para o preenchimento da ficha de caracterização física dos imóveis.\n",
    "\n",
    "Outra solicitação à equipe da SEHAB, é que nos deem a diretriz para a inserção de código chave nos imóveis inseridos através da ZEIS 3 seguindo os padrões do Habitasampa.\n",
    "Segue a tabela.\n",
    "\n",
    "\n",
    "## Considerações técnicas:\n",
    "\n",
    "Alguns dos dados solicitados (identificação dos proprietários) são dados pessoais protegidos pela LGPD que não estão disponíveis publicamente.\n",
    "\n",
    "Estes deverão ser solicitados diretamente à SF pela SEHAB.\n",
    "\n",
    "Os demais, acrescentamos aqui neste script."
   ]
  },
  {
   "cell_type": "code",
   "execution_count": 13,
   "id": "9ec9f6b9-c971-4065-baa5-9964c8728789",
   "metadata": {},
   "outputs": [],
   "source": [
    "import os\n",
    "import pandas as pd\n",
    "from requests import Session\n",
    "import zipfile"
   ]
  },
  {
   "cell_type": "code",
   "execution_count": 11,
   "id": "5d3d3373-5bc5-4bf0-8546-682eae65fdca",
   "metadata": {},
   "outputs": [],
   "source": [
    "def make_data_dir(folder='data'):\n",
    "    \n",
    "    if not os.path.exists(folder):\n",
    "        os.mkdir(folder)\n",
    "        \n",
    "    return os.path.abspath(folder)\n",
    "\n",
    "def write_file(fname, content, file_type='t', folder = None):\n",
    "    \n",
    "    if folder is not None:\n",
    "        folder = make_data_dir(folder)\n",
    "        \n",
    "        fname = os.path.join(folder, fname)\n",
    "        \n",
    "    with open(fname, f'w{file_type}') as f:\n",
    "        f.write(content)\n",
    "    \n",
    "    \n",
    "    return fname\n",
    "\n",
    "\n",
    "def download_binary_data(session, url, fname, folder='data'):\n",
    "    \n",
    "    with session.get(url) as r:\n",
    "        assert r.status_code==200\n",
    "        content = r.content\n",
    "    \n",
    "    write_file(fname, content, file_type='b', folder=folder)\n",
    "    \n",
    "    \n",
    "def download_iptu(url=None, fname='iptu.zip', folder='data'):\n",
    "    \n",
    "    if url is None:\n",
    "        url = (\"http://download.geosampa.prefeitura.sp.gov.br/PaginasPublicas/\"\n",
    "               \"downloadArquivo.aspx?orig=DownloadCamadas&arq=12_Cadastro%5CIPTU_INTER%5CXLS_CSV%5CIPTU_2022&arqTipo=XLS_CSV\")\n",
    "        \n",
    "    session = Session()\n",
    "    session.get('http://geosampa.prefeitura.sp.gov.br/PaginasPublicas')\n",
    "    session.headers = {'Accept-Encoding' : 'gzip, deflate',\n",
    "                       'Accept' : 'text/html,application/xhtml+xml,application/xml;q=0.9,image/avif,image/webp,*/*;q=0.8',\n",
    "                      'Referer' : 'http://geosampa.prefeitura.sp.gov.br/PaginasPublicas/_SBC.aspx'}\n",
    "    \n",
    "    \n",
    "    download_binary_data(session, url, fname, folder)\n",
    "    "
   ]
  },
  {
   "cell_type": "code",
   "execution_count": 12,
   "id": "f24b4337-1306-40ad-8b92-42b603ca825e",
   "metadata": {},
   "outputs": [],
   "source": [
    "download_iptu()"
   ]
  },
  {
   "cell_type": "code",
   "execution_count": 14,
   "id": "67087a3a-b088-477b-a73f-d2e49e3e2b11",
   "metadata": {},
   "outputs": [],
   "source": [
    "def unzip_iptu(file='iptu.zip', folder='data'):\n",
    "    \n",
    "    if folder:\n",
    "        file = os.path.abspath(os.path.join(folder, file))\n",
    "    \n",
    "    with zipfile.ZipFile(file, 'r') as zip_ref:\n",
    "        zip_ref.extractall(folder)\n"
   ]
  },
  {
   "cell_type": "code",
   "execution_count": 15,
   "id": "015ddb56-6dfb-4e90-99cf-b7c27374c26e",
   "metadata": {},
   "outputs": [],
   "source": [
    "unzip_iptu()"
   ]
  },
  {
   "cell_type": "code",
   "execution_count": 17,
   "id": "bd13faec-1d76-4101-8383-27654cb82c28",
   "metadata": {},
   "outputs": [],
   "source": [
    "df_iptu = pd.read_csv(os.path.join('data', 'iptu.zip'), encoding='latin-1', sep=';')"
   ]
  },
  {
   "cell_type": "code",
   "execution_count": 18,
   "id": "bdb49ae2-1c41-4808-bef9-c44b0a226bfd",
   "metadata": {},
   "outputs": [
    {
     "data": {
      "text/html": [
       "<div>\n",
       "<style scoped>\n",
       "    .dataframe tbody tr th:only-of-type {\n",
       "        vertical-align: middle;\n",
       "    }\n",
       "\n",
       "    .dataframe tbody tr th {\n",
       "        vertical-align: top;\n",
       "    }\n",
       "\n",
       "    .dataframe thead th {\n",
       "        text-align: right;\n",
       "    }\n",
       "</style>\n",
       "<table border=\"1\" class=\"dataframe\">\n",
       "  <thead>\n",
       "    <tr style=\"text-align: right;\">\n",
       "      <th></th>\n",
       "      <th>NUMERO DO CONTRIBUINTE</th>\n",
       "      <th>ANO DO EXERCICIO</th>\n",
       "      <th>NUMERO DA NL</th>\n",
       "      <th>DATA DO CADASTRAMENTO</th>\n",
       "      <th>NUMERO DO CONDOMINIO</th>\n",
       "      <th>CODLOG DO IMOVEL</th>\n",
       "      <th>NOME DE LOGRADOURO DO IMOVEL</th>\n",
       "      <th>NUMERO DO IMOVEL</th>\n",
       "      <th>COMPLEMENTO DO IMOVEL</th>\n",
       "      <th>BAIRRO DO IMOVEL</th>\n",
       "      <th>...</th>\n",
       "      <th>ANO DA CONSTRUCAO CORRIGIDO</th>\n",
       "      <th>QUANTIDADE DE PAVIMENTOS</th>\n",
       "      <th>TESTADA PARA CALCULO</th>\n",
       "      <th>TIPO DE USO DO IMOVEL</th>\n",
       "      <th>TIPO DE PADRAO DA CONSTRUCAO</th>\n",
       "      <th>TIPO DE TERRENO</th>\n",
       "      <th>FATOR DE OBSOLESCENCIA</th>\n",
       "      <th>ANO DE INICIO DA VIDA DO CONTRIBUINTE</th>\n",
       "      <th>MES DE INICIO DA VIDA DO CONTRIBUINTE</th>\n",
       "      <th>FASE DO CONTRIBUINTE</th>\n",
       "    </tr>\n",
       "  </thead>\n",
       "  <tbody>\n",
       "    <tr>\n",
       "      <th>0</th>\n",
       "      <td>0010030001-4</td>\n",
       "      <td>2022</td>\n",
       "      <td>1</td>\n",
       "      <td>01/01/22</td>\n",
       "      <td>00-0</td>\n",
       "      <td>03812-1</td>\n",
       "      <td>R S CAETANO</td>\n",
       "      <td>13.0</td>\n",
       "      <td>NaN</td>\n",
       "      <td>SANTA EFIGENIA</td>\n",
       "      <td>...</td>\n",
       "      <td>1924</td>\n",
       "      <td>1</td>\n",
       "      <td>13,00</td>\n",
       "      <td>Loja</td>\n",
       "      <td>Comercial horizontal - padrão B</td>\n",
       "      <td>De esquina</td>\n",
       "      <td>0,20</td>\n",
       "      <td>1963</td>\n",
       "      <td>1</td>\n",
       "      <td>0</td>\n",
       "    </tr>\n",
       "    <tr>\n",
       "      <th>1</th>\n",
       "      <td>0010030002-2</td>\n",
       "      <td>2022</td>\n",
       "      <td>1</td>\n",
       "      <td>01/01/22</td>\n",
       "      <td>00-0</td>\n",
       "      <td>03812-1</td>\n",
       "      <td>R S CAETANO</td>\n",
       "      <td>19.0</td>\n",
       "      <td>NaN</td>\n",
       "      <td>SANTA EFIGENIA</td>\n",
       "      <td>...</td>\n",
       "      <td>1944</td>\n",
       "      <td>1</td>\n",
       "      <td>6,00</td>\n",
       "      <td>Loja</td>\n",
       "      <td>Comercial horizontal - padrão B</td>\n",
       "      <td>Normal</td>\n",
       "      <td>0,20</td>\n",
       "      <td>1963</td>\n",
       "      <td>1</td>\n",
       "      <td>0</td>\n",
       "    </tr>\n",
       "    <tr>\n",
       "      <th>2</th>\n",
       "      <td>0010030003-0</td>\n",
       "      <td>2022</td>\n",
       "      <td>1</td>\n",
       "      <td>01/01/22</td>\n",
       "      <td>00-0</td>\n",
       "      <td>03812-1</td>\n",
       "      <td>R S CAETANO</td>\n",
       "      <td>27.0</td>\n",
       "      <td>NaN</td>\n",
       "      <td>SANTA EFIGENIA</td>\n",
       "      <td>...</td>\n",
       "      <td>1965</td>\n",
       "      <td>2</td>\n",
       "      <td>7,85</td>\n",
       "      <td>Loja</td>\n",
       "      <td>Comercial horizontal - padrão B</td>\n",
       "      <td>Normal</td>\n",
       "      <td>0,26</td>\n",
       "      <td>1963</td>\n",
       "      <td>1</td>\n",
       "      <td>0</td>\n",
       "    </tr>\n",
       "    <tr>\n",
       "      <th>3</th>\n",
       "      <td>0010030004-9</td>\n",
       "      <td>2022</td>\n",
       "      <td>1</td>\n",
       "      <td>01/01/22</td>\n",
       "      <td>00-0</td>\n",
       "      <td>03812-1</td>\n",
       "      <td>R S CAETANO</td>\n",
       "      <td>33.0</td>\n",
       "      <td>NaN</td>\n",
       "      <td>NaN</td>\n",
       "      <td>...</td>\n",
       "      <td>1944</td>\n",
       "      <td>1</td>\n",
       "      <td>6,05</td>\n",
       "      <td>Loja</td>\n",
       "      <td>Comercial horizontal - padrão B</td>\n",
       "      <td>Normal</td>\n",
       "      <td>0,20</td>\n",
       "      <td>1963</td>\n",
       "      <td>1</td>\n",
       "      <td>0</td>\n",
       "    </tr>\n",
       "    <tr>\n",
       "      <th>4</th>\n",
       "      <td>0010030005-7</td>\n",
       "      <td>2022</td>\n",
       "      <td>1</td>\n",
       "      <td>01/01/22</td>\n",
       "      <td>00-0</td>\n",
       "      <td>03812-1</td>\n",
       "      <td>R S CAETANO</td>\n",
       "      <td>39.0</td>\n",
       "      <td>NaN</td>\n",
       "      <td>NaN</td>\n",
       "      <td>...</td>\n",
       "      <td>2004</td>\n",
       "      <td>2</td>\n",
       "      <td>6,70</td>\n",
       "      <td>Loja</td>\n",
       "      <td>Comercial horizontal - padrão B</td>\n",
       "      <td>Normal</td>\n",
       "      <td>0,84</td>\n",
       "      <td>1963</td>\n",
       "      <td>1</td>\n",
       "      <td>0</td>\n",
       "    </tr>\n",
       "  </tbody>\n",
       "</table>\n",
       "<p>5 rows × 29 columns</p>\n",
       "</div>"
      ],
      "text/plain": [
       "  NUMERO DO CONTRIBUINTE  ANO DO EXERCICIO  NUMERO DA NL  \\\n",
       "0           0010030001-4              2022             1   \n",
       "1           0010030002-2              2022             1   \n",
       "2           0010030003-0              2022             1   \n",
       "3           0010030004-9              2022             1   \n",
       "4           0010030005-7              2022             1   \n",
       "\n",
       "  DATA DO CADASTRAMENTO NUMERO DO CONDOMINIO CODLOG DO IMOVEL  \\\n",
       "0              01/01/22                 00-0          03812-1   \n",
       "1              01/01/22                 00-0          03812-1   \n",
       "2              01/01/22                 00-0          03812-1   \n",
       "3              01/01/22                 00-0          03812-1   \n",
       "4              01/01/22                 00-0          03812-1   \n",
       "\n",
       "  NOME DE LOGRADOURO DO IMOVEL  NUMERO DO IMOVEL COMPLEMENTO DO IMOVEL  \\\n",
       "0                  R S CAETANO              13.0                   NaN   \n",
       "1                  R S CAETANO              19.0                   NaN   \n",
       "2                  R S CAETANO              27.0                   NaN   \n",
       "3                  R S CAETANO              33.0                   NaN   \n",
       "4                  R S CAETANO              39.0                   NaN   \n",
       "\n",
       "  BAIRRO DO IMOVEL  ... ANO DA CONSTRUCAO CORRIGIDO QUANTIDADE DE PAVIMENTOS  \\\n",
       "0   SANTA EFIGENIA  ...                        1924                        1   \n",
       "1   SANTA EFIGENIA  ...                        1944                        1   \n",
       "2   SANTA EFIGENIA  ...                        1965                        2   \n",
       "3              NaN  ...                        1944                        1   \n",
       "4              NaN  ...                        2004                        2   \n",
       "\n",
       "   TESTADA PARA CALCULO TIPO DE USO DO IMOVEL  \\\n",
       "0                 13,00                  Loja   \n",
       "1                  6,00                  Loja   \n",
       "2                  7,85                  Loja   \n",
       "3                  6,05                  Loja   \n",
       "4                  6,70                  Loja   \n",
       "\n",
       "      TIPO DE PADRAO DA CONSTRUCAO  TIPO DE TERRENO  FATOR DE OBSOLESCENCIA  \\\n",
       "0  Comercial horizontal - padrão B       De esquina                    0,20   \n",
       "1  Comercial horizontal - padrão B           Normal                    0,20   \n",
       "2  Comercial horizontal - padrão B           Normal                    0,26   \n",
       "3  Comercial horizontal - padrão B           Normal                    0,20   \n",
       "4  Comercial horizontal - padrão B           Normal                    0,84   \n",
       "\n",
       "  ANO DE INICIO DA VIDA DO CONTRIBUINTE MES DE INICIO DA VIDA DO CONTRIBUINTE  \\\n",
       "0                                  1963                                     1   \n",
       "1                                  1963                                     1   \n",
       "2                                  1963                                     1   \n",
       "3                                  1963                                     1   \n",
       "4                                  1963                                     1   \n",
       "\n",
       "   FASE DO CONTRIBUINTE  \n",
       "0                     0  \n",
       "1                     0  \n",
       "2                     0  \n",
       "3                     0  \n",
       "4                     0  \n",
       "\n",
       "[5 rows x 29 columns]"
      ]
     },
     "execution_count": 18,
     "metadata": {},
     "output_type": "execute_result"
    }
   ],
   "source": [
    "df_iptu.head()"
   ]
  },
  {
   "cell_type": "code",
   "execution_count": 22,
   "id": "4e6a8448-79cf-41ef-9f5a-a9af4da68263",
   "metadata": {},
   "outputs": [],
   "source": [
    "df_sehab = pd.read_excel(os.path.join('data', 'VistoriaXIPTU.xlsx'), dtype='object')"
   ]
  },
  {
   "cell_type": "code",
   "execution_count": 23,
   "id": "8a253b48-3e72-426b-a2b4-628951352b05",
   "metadata": {},
   "outputs": [
    {
     "data": {
      "text/html": [
       "<div>\n",
       "<style scoped>\n",
       "    .dataframe tbody tr th:only-of-type {\n",
       "        vertical-align: middle;\n",
       "    }\n",
       "\n",
       "    .dataframe tbody tr th {\n",
       "        vertical-align: top;\n",
       "    }\n",
       "\n",
       "    .dataframe thead th {\n",
       "        text-align: right;\n",
       "    }\n",
       "</style>\n",
       "<table border=\"1\" class=\"dataframe\">\n",
       "  <thead>\n",
       "    <tr style=\"text-align: right;\">\n",
       "      <th></th>\n",
       "      <th>uuid_id</th>\n",
       "      <th>Endereço</th>\n",
       "      <th>Distrito</th>\n",
       "      <th>Classificação (Mapa)</th>\n",
       "      <th>ID Lote (IPTU)</th>\n",
       "      <th>Setor (IPTU)</th>\n",
       "      <th>Quadra (IPTU)</th>\n",
       "      <th>Lote (IPTU)</th>\n",
       "      <th>Condominio (IPTU)</th>\n",
       "    </tr>\n",
       "  </thead>\n",
       "  <tbody>\n",
       "    <tr>\n",
       "      <th>0</th>\n",
       "      <td>f952bdc5-0315-44c7-8c79-5d4bca9efcc5</td>\n",
       "      <td>Rua dos Estudantes 566</td>\n",
       "      <td>SE</td>\n",
       "      <td>cortiços</td>\n",
       "      <td>701</td>\n",
       "      <td>005</td>\n",
       "      <td>057</td>\n",
       "      <td>0004</td>\n",
       "      <td>00</td>\n",
       "    </tr>\n",
       "    <tr>\n",
       "      <th>1</th>\n",
       "      <td>f952bdc5-0315-44c7-8c79-5d4bca9efcc5</td>\n",
       "      <td>Rua dos Estudantes 566</td>\n",
       "      <td>SE</td>\n",
       "      <td>cortiços</td>\n",
       "      <td>1495</td>\n",
       "      <td>005</td>\n",
       "      <td>057</td>\n",
       "      <td>0015</td>\n",
       "      <td>00</td>\n",
       "    </tr>\n",
       "    <tr>\n",
       "      <th>2</th>\n",
       "      <td>f952bdc5-0315-44c7-8c79-5d4bca9efcc5</td>\n",
       "      <td>Rua dos Estudantes 566</td>\n",
       "      <td>SE</td>\n",
       "      <td>cortiços</td>\n",
       "      <td>2060</td>\n",
       "      <td>005</td>\n",
       "      <td>057</td>\n",
       "      <td>0016</td>\n",
       "      <td>00</td>\n",
       "    </tr>\n",
       "    <tr>\n",
       "      <th>3</th>\n",
       "      <td>e1df1cf7-4222-40a3-a17b-8da0bba72036</td>\n",
       "      <td>Rua Conselheiro Ramalho 466</td>\n",
       "      <td>BELA VISTA</td>\n",
       "      <td>cortiços</td>\n",
       "      <td>19841</td>\n",
       "      <td>009</td>\n",
       "      <td>006</td>\n",
       "      <td>0010</td>\n",
       "      <td>00</td>\n",
       "    </tr>\n",
       "    <tr>\n",
       "      <th>4</th>\n",
       "      <td>5a587a36-798b-4518-bcc9-2cbadad1e289</td>\n",
       "      <td>Rua Abolição 370</td>\n",
       "      <td>REPUBLICA</td>\n",
       "      <td>cortiços</td>\n",
       "      <td>4862</td>\n",
       "      <td>006</td>\n",
       "      <td>049</td>\n",
       "      <td>0004</td>\n",
       "      <td>00</td>\n",
       "    </tr>\n",
       "  </tbody>\n",
       "</table>\n",
       "</div>"
      ],
      "text/plain": [
       "                                uuid_id                     Endereço  \\\n",
       "0  f952bdc5-0315-44c7-8c79-5d4bca9efcc5       Rua dos Estudantes 566   \n",
       "1  f952bdc5-0315-44c7-8c79-5d4bca9efcc5       Rua dos Estudantes 566   \n",
       "2  f952bdc5-0315-44c7-8c79-5d4bca9efcc5       Rua dos Estudantes 566   \n",
       "3  e1df1cf7-4222-40a3-a17b-8da0bba72036  Rua Conselheiro Ramalho 466   \n",
       "4  5a587a36-798b-4518-bcc9-2cbadad1e289             Rua Abolição 370   \n",
       "\n",
       "     Distrito Classificação (Mapa) ID Lote (IPTU) Setor (IPTU) Quadra (IPTU)  \\\n",
       "0          SE             cortiços            701          005           057   \n",
       "1          SE             cortiços           1495          005           057   \n",
       "2          SE             cortiços           2060          005           057   \n",
       "3  BELA VISTA             cortiços          19841          009           006   \n",
       "4   REPUBLICA             cortiços           4862          006           049   \n",
       "\n",
       "  Lote (IPTU) Condominio (IPTU)  \n",
       "0        0004                00  \n",
       "1        0015                00  \n",
       "2        0016                00  \n",
       "3        0010                00  \n",
       "4        0004                00  "
      ]
     },
     "execution_count": 23,
     "metadata": {},
     "output_type": "execute_result"
    }
   ],
   "source": [
    "df_sehab.head()"
   ]
  },
  {
   "cell_type": "code",
   "execution_count": 28,
   "id": "31b580ef-56dc-4fdf-9135-81e51915ad13",
   "metadata": {},
   "outputs": [
    {
     "data": {
      "text/plain": [
       "array(['00', '09', '04', '10', '02', '07', '01', '11', '05', '12', '03',\n",
       "       '19', '06', '08', '18', '13'], dtype=object)"
      ]
     },
     "execution_count": 28,
     "metadata": {},
     "output_type": "execute_result"
    }
   ],
   "source": [
    "df_sehab['Condominio (IPTU)'].unique()"
   ]
  },
  {
   "cell_type": "code",
   "execution_count": 29,
   "id": "2ce2fe8b-965d-47d3-a6e8-e73ab7bba6ca",
   "metadata": {},
   "outputs": [],
   "source": [
    "def build_sql(row):\n",
    "    \n",
    "    setor = row['Setor (IPTU)']\n",
    "    quadra = row['Quadra (IPTU)']\n",
    "    lote = row['Lote (IPTU)']\n",
    "    #condominio veio com dois digitos, queremos só o ultimo\n",
    "    condominio = row['Condominio (IPTU)'][-1]\n",
    "    \n",
    "    return f'{setor}{quadra}{lote}-{condominio}'"
   ]
  },
  {
   "cell_type": "code",
   "execution_count": 31,
   "id": "13be0131-a8a5-42fa-880c-7cd9916069a6",
   "metadata": {},
   "outputs": [],
   "source": [
    "df_sehab['NUMERO DO CONTRIBUINTE'] = df_sehab.apply(lambda row: build_sql(row), axis=1)"
   ]
  },
  {
   "cell_type": "code",
   "execution_count": 32,
   "id": "0ccef5f2-1b81-4fb5-a9b2-5ab69986e3a7",
   "metadata": {},
   "outputs": [
    {
     "data": {
      "text/plain": [
       "array([12])"
      ]
     },
     "execution_count": 32,
     "metadata": {},
     "output_type": "execute_result"
    }
   ],
   "source": [
    "df_sehab['NUMERO DO CONTRIBUINTE'].apply(len).unique()"
   ]
  },
  {
   "cell_type": "code",
   "execution_count": 33,
   "id": "dfa2969f-4509-47e8-97ae-b04e53c53509",
   "metadata": {},
   "outputs": [
    {
     "data": {
      "text/plain": [
       "array([12])"
      ]
     },
     "execution_count": 33,
     "metadata": {},
     "output_type": "execute_result"
    }
   ],
   "source": [
    "df_iptu['NUMERO DO CONTRIBUINTE'].apply(len).unique()"
   ]
  },
  {
   "cell_type": "code",
   "execution_count": 35,
   "id": "53c2c72c-f7ac-4dc2-8ba3-8ba6b88a844b",
   "metadata": {},
   "outputs": [],
   "source": [
    "sehab_iptu = pd.merge(df_sehab, df_iptu, how='left', on = 'NUMERO DO CONTRIBUINTE')"
   ]
  },
  {
   "cell_type": "code",
   "execution_count": 36,
   "id": "de6acce9-9874-461f-b5d5-e4f0f6bb3014",
   "metadata": {},
   "outputs": [],
   "source": [
    "sehab_iptu.to_csv(os.path.join('data', 'sehab_iptu.csv'), sep=';', encoding='utf-8', index=False)"
   ]
  },
  {
   "cell_type": "code",
   "execution_count": 40,
   "id": "da491d03-2c70-4e3c-a937-4cac306f2fc6",
   "metadata": {},
   "outputs": [],
   "source": [
    "teste_lote_sem_cond = '0330050000'"
   ]
  },
  {
   "cell_type": "code",
   "execution_count": 41,
   "id": "aa5b2dda-4403-443b-8163-5b57a8ba2fc6",
   "metadata": {},
   "outputs": [
    {
     "data": {
      "text/html": [
       "<div>\n",
       "<style scoped>\n",
       "    .dataframe tbody tr th:only-of-type {\n",
       "        vertical-align: middle;\n",
       "    }\n",
       "\n",
       "    .dataframe tbody tr th {\n",
       "        vertical-align: top;\n",
       "    }\n",
       "\n",
       "    .dataframe thead th {\n",
       "        text-align: right;\n",
       "    }\n",
       "</style>\n",
       "<table border=\"1\" class=\"dataframe\">\n",
       "  <thead>\n",
       "    <tr style=\"text-align: right;\">\n",
       "      <th></th>\n",
       "      <th>NUMERO DO CONTRIBUINTE</th>\n",
       "      <th>ANO DO EXERCICIO</th>\n",
       "      <th>NUMERO DA NL</th>\n",
       "      <th>DATA DO CADASTRAMENTO</th>\n",
       "      <th>NUMERO DO CONDOMINIO</th>\n",
       "      <th>CODLOG DO IMOVEL</th>\n",
       "      <th>NOME DE LOGRADOURO DO IMOVEL</th>\n",
       "      <th>NUMERO DO IMOVEL</th>\n",
       "      <th>COMPLEMENTO DO IMOVEL</th>\n",
       "      <th>BAIRRO DO IMOVEL</th>\n",
       "      <th>...</th>\n",
       "      <th>ANO DA CONSTRUCAO CORRIGIDO</th>\n",
       "      <th>QUANTIDADE DE PAVIMENTOS</th>\n",
       "      <th>TESTADA PARA CALCULO</th>\n",
       "      <th>TIPO DE USO DO IMOVEL</th>\n",
       "      <th>TIPO DE PADRAO DA CONSTRUCAO</th>\n",
       "      <th>TIPO DE TERRENO</th>\n",
       "      <th>FATOR DE OBSOLESCENCIA</th>\n",
       "      <th>ANO DE INICIO DA VIDA DO CONTRIBUINTE</th>\n",
       "      <th>MES DE INICIO DA VIDA DO CONTRIBUINTE</th>\n",
       "      <th>FASE DO CONTRIBUINTE</th>\n",
       "    </tr>\n",
       "  </thead>\n",
       "  <tbody>\n",
       "    <tr>\n",
       "      <th>27555</th>\n",
       "      <td>0030140204-3</td>\n",
       "      <td>2022</td>\n",
       "      <td>1</td>\n",
       "      <td>01/01/22</td>\n",
       "      <td>00-0</td>\n",
       "      <td>13796-0</td>\n",
       "      <td>R  MELO BARRETO</td>\n",
       "      <td>104.0</td>\n",
       "      <td>E 110</td>\n",
       "      <td>BRAS</td>\n",
       "      <td>...</td>\n",
       "      <td>1964</td>\n",
       "      <td>3</td>\n",
       "      <td>10,00</td>\n",
       "      <td>Prédio de apartamento, não em condomínio, de u...</td>\n",
       "      <td>Residencial vertical - padrão C</td>\n",
       "      <td>Normal</td>\n",
       "      <td>0,24</td>\n",
       "      <td>1963</td>\n",
       "      <td>1</td>\n",
       "      <td>0</td>\n",
       "    </tr>\n",
       "  </tbody>\n",
       "</table>\n",
       "<p>1 rows × 29 columns</p>\n",
       "</div>"
      ],
      "text/plain": [
       "      NUMERO DO CONTRIBUINTE  ANO DO EXERCICIO  NUMERO DA NL  \\\n",
       "27555           0030140204-3              2022             1   \n",
       "\n",
       "      DATA DO CADASTRAMENTO NUMERO DO CONDOMINIO CODLOG DO IMOVEL  \\\n",
       "27555              01/01/22                 00-0          13796-0   \n",
       "\n",
       "      NOME DE LOGRADOURO DO IMOVEL  NUMERO DO IMOVEL COMPLEMENTO DO IMOVEL  \\\n",
       "27555              R  MELO BARRETO             104.0                 E 110   \n",
       "\n",
       "      BAIRRO DO IMOVEL  ... ANO DA CONSTRUCAO CORRIGIDO  \\\n",
       "27555             BRAS  ...                        1964   \n",
       "\n",
       "      QUANTIDADE DE PAVIMENTOS  TESTADA PARA CALCULO  \\\n",
       "27555                        3                 10,00   \n",
       "\n",
       "                                   TIPO DE USO DO IMOVEL  \\\n",
       "27555  Prédio de apartamento, não em condomínio, de u...   \n",
       "\n",
       "          TIPO DE PADRAO DA CONSTRUCAO  TIPO DE TERRENO  \\\n",
       "27555  Residencial vertical - padrão C           Normal   \n",
       "\n",
       "       FATOR DE OBSOLESCENCIA ANO DE INICIO DA VIDA DO CONTRIBUINTE  \\\n",
       "27555                    0,24                                  1963   \n",
       "\n",
       "      MES DE INICIO DA VIDA DO CONTRIBUINTE  FASE DO CONTRIBUINTE  \n",
       "27555                                     1                     0  \n",
       "\n",
       "[1 rows x 29 columns]"
      ]
     },
     "execution_count": 41,
     "metadata": {},
     "output_type": "execute_result"
    }
   ],
   "source": [
    "df_iptu[df_iptu['NUMERO DO CONTRIBUINTE'].apply(lambda x: '0030140204' in x)]"
   ]
  },
  {
   "cell_type": "code",
   "execution_count": 43,
   "id": "5ef184d3-6dd8-47d4-8abd-327c3d3aadc7",
   "metadata": {},
   "outputs": [],
   "source": [
    "df_sehab['SQL_SEM_COND'] = df_sehab['NUMERO DO CONTRIBUINTE'].apply(lambda x: x[:-2])"
   ]
  },
  {
   "cell_type": "code",
   "execution_count": 44,
   "id": "f9e4204b-8488-450e-a818-b20139e87938",
   "metadata": {},
   "outputs": [],
   "source": [
    "df_iptu['SQL_SEM_COND'] = df_iptu['NUMERO DO CONTRIBUINTE'].apply(lambda x: x[:-2])"
   ]
  },
  {
   "cell_type": "code",
   "execution_count": 46,
   "id": "fb1285b9-24de-4561-bfec-362b4b79462d",
   "metadata": {},
   "outputs": [],
   "source": [
    "sehab_iptu_sem_cond = pd.merge(df_sehab, df_iptu, how='left', on = 'SQL_SEM_COND')"
   ]
  },
  {
   "cell_type": "code",
   "execution_count": 48,
   "id": "348c0d2e-3d7c-44cf-8b4d-e1d8cc3c1ccd",
   "metadata": {},
   "outputs": [
    {
     "data": {
      "text/plain": [
       "0.9148797920727745"
      ]
     },
     "execution_count": 48,
     "metadata": {},
     "output_type": "execute_result"
    }
   ],
   "source": [
    "sehab_iptu['ANO DO EXERCICIO'].isnull().mean()"
   ]
  },
  {
   "cell_type": "code",
   "execution_count": 49,
   "id": "fb67f06d-514b-4ccd-a363-51d75ad5d7c0",
   "metadata": {},
   "outputs": [
    {
     "data": {
      "text/plain": [
       "0.11760883690708251"
      ]
     },
     "execution_count": 49,
     "metadata": {},
     "output_type": "execute_result"
    }
   ],
   "source": [
    "sehab_iptu_sem_cond['ANO DO EXERCICIO'].isnull().mean()"
   ]
  },
  {
   "cell_type": "code",
   "execution_count": 50,
   "id": "a94734f8-40be-4439-9fc6-502e46c7db0a",
   "metadata": {},
   "outputs": [],
   "source": [
    "sehab_iptu_sem_cond.to_csv(os.path.join('data', 'sehab_iptu_sem_cond.csv'), sep=';', encoding='utf-8', index=False)"
   ]
  },
  {
   "cell_type": "code",
   "execution_count": null,
   "id": "ef0f3b3d-764c-4660-b0a1-160030557668",
   "metadata": {},
   "outputs": [],
   "source": []
  }
 ],
 "metadata": {
  "kernelspec": {
   "display_name": "Python 3",
   "language": "python",
   "name": "python3"
  },
  "language_info": {
   "codemirror_mode": {
    "name": "ipython",
    "version": 3
   },
   "file_extension": ".py",
   "mimetype": "text/x-python",
   "name": "python",
   "nbconvert_exporter": "python",
   "pygments_lexer": "ipython3",
   "version": "3.8.8"
  }
 },
 "nbformat": 4,
 "nbformat_minor": 5
}
